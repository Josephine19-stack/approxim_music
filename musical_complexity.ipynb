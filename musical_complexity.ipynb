{
 "cells": [
  {
   "cell_type": "code",
   "execution_count": 24,
   "metadata": {},
   "outputs": [],
   "source": [
    "import ast\n",
    "from collections import Counter\n",
    "import math\n",
    "import zlib\n",
    "import pandas as pd\n",
    "import numpy as np \n",
    "import mido"
   ]
  },
  {
   "cell_type": "code",
   "execution_count": 3,
   "metadata": {},
   "outputs": [],
   "source": [
    "output_directory = \"music_metrics.csv\""
   ]
  },
  {
   "cell_type": "code",
   "execution_count": 4,
   "metadata": {},
   "outputs": [],
   "source": [
    "def extract_features(notes_dict):\n",
    "    pitches = [note[0] for note in notes_dict.values()]\n",
    "    durations = [note[1] for note in notes_dict.values()]\n",
    "    velocities = [note[2] for note in notes_dict.values()]\n",
    "    return pitches, durations, velocities\n",
    "def calculate_entropy(sequence):\n",
    "    counts = Counter(sequence)\n",
    "    probabilities = [count / len(sequence) for count in counts.values()]\n",
    "    return -sum(p * math.log2(p) for p in probabilities if p > 0)\n",
    "def calculate_compression_ratio(sequence):\n",
    "    # Convert the sequence to a string for compression\n",
    "    sequence_str = \",\".join(map(str, sequence))\n",
    "    compressed = zlib.compress(sequence_str.encode('utf-8'))\n",
    "    return len(compressed) / len(sequence_str.encode('utf-8'))\n",
    "\n",
    "def calculate_metrix(df):\n",
    "    complexity_scores = []\n",
    "    for _, row in df.iterrows():\n",
    "        notes_dict = ast.literal_eval(row[\"Notes\"])  # Convert string back to dictionary\n",
    "        pitches, durations, velocities = extract_features(notes_dict)\n",
    "\n",
    "        metrics = {\n",
    "        \"pitch_entropy\": calculate_entropy(pitches),\n",
    "        \"duration_entropy\": calculate_entropy(durations),\n",
    "        \"velocity_entropy\": calculate_entropy(velocities),\n",
    "        \"pitch_compression\": calculate_compression_ratio(pitches),\n",
    "        \"duration_compression\": calculate_compression_ratio(durations),\n",
    "        \"velocity_compression\": calculate_compression_ratio(velocities),\n",
    "        }\n",
    "\n",
    "        complexity_scores.append(metrics)\n",
    "\n",
    "    # Add the complexity column to the dataframe\n",
    "    return complexity_scores"
   ]
  },
  {
   "cell_type": "code",
   "execution_count": 7,
   "metadata": {},
   "outputs": [
    {
     "name": "stdout",
     "output_type": "stream",
     "text": [
      "0       {'pitch_entropy': 4.039494663005557, 'duration...\n",
      "1       {'pitch_entropy': 3.3698373541095803, 'duratio...\n",
      "2       {'pitch_entropy': 3.6740738464145557, 'duratio...\n",
      "3       {'pitch_entropy': 4.404917585176534, 'duration...\n",
      "4       {'pitch_entropy': 4.484162704131576, 'duration...\n",
      "                              ...                        \n",
      "2031    {'pitch_entropy': 4.346988230461985, 'duration...\n",
      "2032    {'pitch_entropy': 4.517722105737881, 'duration...\n",
      "2033    {'pitch_entropy': 4.0377172942187, 'duration_e...\n",
      "2034    {'pitch_entropy': 3.960525399817489, 'duration...\n",
      "2035    {'pitch_entropy': 4.226813284500464, 'duration...\n",
      "Name: Metrix, Length: 2036, dtype: object\n"
     ]
    }
   ],
   "source": [
    "df = pd.read_csv(output_directory)\n",
    "df[\"Metrix\"] = calculate_metrix(df)\n",
    "print(df[\"Metrix\"])"
   ]
  },
  {
   "cell_type": "code",
   "execution_count": 6,
   "metadata": {},
   "outputs": [
    {
     "data": {
      "text/plain": [
       "(2036, 7)"
      ]
     },
     "execution_count": 6,
     "metadata": {},
     "output_type": "execute_result"
    }
   ],
   "source": [
    "df.shape"
   ]
  },
  {
   "cell_type": "code",
   "execution_count": 10,
   "metadata": {},
   "outputs": [],
   "source": [
    "def extract_notes_from_df(df):\n",
    "    # Crée trois nouvelles colonnes pour les pitches, durations et velocities\n",
    "    df[\"pitches\"] = df[\"Notes\"].apply(lambda x: [note[0] for note in ast.literal_eval(x).values()])\n",
    "    df[\"durations\"] = df[\"Notes\"].apply(lambda x: [note[1] for note in ast.literal_eval(x).values()])\n",
    "    df[\"velocities\"] = df[\"Notes\"].apply(lambda x: [note[2] for note in ast.literal_eval(x).values()])\n",
    "    return df\n",
    "\n",
    "\n",
    "df = extract_notes_from_df(df)"
   ]
  },
  {
   "cell_type": "code",
   "execution_count": 16,
   "metadata": {},
   "outputs": [
    {
     "name": "stdout",
     "output_type": "stream",
     "text": [
      "55\n"
     ]
    }
   ],
   "source": [
    "#l = [df[\"pitches\"][0],df[\"durations\"][0],df[\"velocities\"][0]]\n",
    "\n",
    "\n",
    "print(df[\"pitches\"][0][0]) #df[\"pitches\"] est en 2D"
   ]
  },
  {
   "attachments": {},
   "cell_type": "markdown",
   "metadata": {},
   "source": [
    "Il n'y a que des partitions de piano dans le dataset, une seule piste à chaque morceau/ligne (donc ce qu'on voulait nice)"
   ]
  },
  {
   "cell_type": "code",
   "execution_count": 29,
   "metadata": {},
   "outputs": [],
   "source": [
    "#Je veux des listes des triplets \n",
    "\n",
    "\n",
    "def extract_triplets(df):\n",
    "    \"\"\"\n",
    "    Convert the 'Notes' column in the DataFrame into a list of triplets (pitches, durations, velocities).\n",
    "    \n",
    "    Args:\n",
    "        df (pd.DataFrame): DataFrame containing a 'Notes' column with dictionary-like strings.\n",
    "        \n",
    "    Returns:\n",
    "        pd.DataFrame: Updated DataFrame with a new column 'triplets' containing the list of tuples.\n",
    "    \"\"\"\n",
    "    df[\"triplets\"] = df[\"Notes\"].apply(lambda x: [tuple(note) for note in ast.literal_eval(x).values()])\n",
    "    return df"
   ]
  },
  {
   "cell_type": "code",
   "execution_count": 30,
   "metadata": {},
   "outputs": [],
   "source": [
    "df = extract_triplets(df)"
   ]
  },
  {
   "attachments": {},
   "cell_type": "markdown",
   "metadata": {},
   "source": [
    "Approche de la complexité de Kolmogorov\n",
    "En gros une note c'est un triplet (p,d,v) (pitch, duratio,velocity)\n",
    "Donc deux notes identiques c'est deux notes qui ont les mêmes p,d,v\n",
    "Si on a deux mêmes p,d,v alors on a juste à écrire la note une fois, et à mettre ses 2 emplacements. C'est moins long que d'encoder deux fois l'emplacement et le p,d,v. Donc premier facteur de réduction de complexité\n",
    "\n",
    "\n",
    "Savoir qu'il y a plusieurs notes de même p ça sert pas forcément à grand chose car il faut quand même noter leur emplacement\n",
    "Mais quand plusieurs notes de même p ou d ou v se suivent la c'est intéressant et ça fait diminuer la complexité\n",
    "Donc quand on a des notes qui se suivent avec mêmes p ou d ou v, complexité diminue\n",
    "\n",
    "pareil si c'est pour des couples de var : si deux notes se suivent avec même p,v (mais d différent) alors ça fait quand même bien diminuer la complexité \n",
    "Algo : \n",
    "\n",
    "1) on imagine que notre code code toutes les notes uniques et sans aucunes répetitions de p,d,v à droite ou à gauche, avec leurs emplacements\n",
    "\n",
    "2) puis il prend celles qui se répètentsur une ou 2 vars, et les codes ensemble\n",
    "\n",
    "3) puis il prend les notes identiques et code juste leur emplacement\n",
    "\n",
    "Si une note est à la fois exactement égale à une autre, et apparait dans une répétition de p, alors comment on l'encode ? Ca c'est une bonne question (elle appartient aux notes de catégorie 2 et 3 à la fois)\n",
    "-> Pour l'instant on considère que la méthode 3 est toujours plus efficace, donc on classe ce genre de note dans la classe 3\n",
    "\n",
    "--> En vérité ça va dépendre de la longueur de la répétition d'une var. Si ça fait beaucoup diminuer la complexité des notes voisines alors il faudrait prendre encodage 2. Mais y a aussi un problème avec cette espèce de \"valeur\" de complexité. On fait des +1 -1 genre ?\n",
    "\n",
    "Pour l'instant oui "
   ]
  },
  {
   "attachments": {},
   "cell_type": "markdown",
   "metadata": {},
   "source": [
    "Plus long encodage : chaque triplet et son emplacement "
   ]
  },
  {
   "attachments": {},
   "cell_type": "markdown",
   "metadata": {},
   "source": [
    "Taille de l'encodage d'un triplet (𝑝,𝑑,𝑣) : constante 𝐶_note\n",
    "Taille de l'encodage de la position : constant 𝐶_position\n",
    "nombre de notes : n \n",
    "Taille maximale de l'encodage : n x (𝐶_note + 𝐶_position) "
   ]
  },
  {
   "cell_type": "code",
   "execution_count": null,
   "metadata": {},
   "outputs": [],
   "source": [
    "mean_length = np.mean([len(df[\"triplets\"][i]) for i in range(len(df[\"triplets\"]))])\n",
    "print(mean_length)\n",
    "\n",
    "max_length = np.max([len(df[\"triplets\"][i]) for i in range(len(df[\"triplets\"]))])\n",
    "print(max_length)"
   ]
  },
  {
   "attachments": {},
   "cell_type": "markdown",
   "metadata": {},
   "source": [
    "taille encodage p : p varie de 0 à 127, il est donc écrit sur 7 bits\n",
    "\n",
    "d en millisecondes, ne dépasse pas 10 000 ms :  14 bits\n",
    "\n",
    "v varie de 0 à 127 : 7 bits\n",
    "\n",
    "𝐶_note = 28 bits\n",
    "\n",
    "la partition la plus longue comporte : 9824 notes\n",
    "9824 se code sur 14 bits\n",
    "donc la position se code sur 14 bits\n",
    "\n",
    "𝐶_position = 14 bits\n",
    "\n",
    "Taille maximale de l'encodage = n x 42 bits"
   ]
  },
  {
   "attachments": {},
   "cell_type": "markdown",
   "metadata": {},
   "source": [
    "il faut avoir une manière de préciser dans le code qu’on a une répétition et la taille de la répétition. Il y a 5 types de répétitions possibles : d, p , v ou de doublets (p,v) , (p,d) (d,v), ça se code sur 4 bits. Ca tombe bien rien ne fait 4 bits dans ce qui précéde, donc dans notre code cès qu'on voit 4 bits, ça veut dire qu'il y a répétition. Ca dit qu'est-ce qui est répété. Puis ensuite ça donne le nombre de répétitions. Pas sur que ce 'quand tu vois un mot de 4 bits c'est que c'est pour préciser une répétition donc tu sais ce que ça veut dire' soit très correct. On suppose que les mots sont séparés par des espaces. Est-ce qu'on peut faire cette hypothèse ? "
   ]
  },
  {
   "cell_type": "code",
   "execution_count": null,
   "metadata": {},
   "outputs": [],
   "source": [
    "def estim_complexite(partition) :\n",
    "    \"\"\" partition : liste de tuples de 3 int. Chaque tuple représente une note\n",
    "    \"\"\"\n",
    "    worst_complexity = 42*len(partition) #Comme expliqué plus haut \n",
    "\n",
    "    #détecter les répétitions de d, p , v ou de doublets (p,v) , (p,d) (d,v)\n",
    "    "
   ]
  }
 ],
 "metadata": {
  "kernelspec": {
   "display_name": "env_TP2",
   "language": "python",
   "name": "python3"
  },
  "language_info": {
   "codemirror_mode": {
    "name": "ipython",
    "version": 3
   },
   "file_extension": ".py",
   "mimetype": "text/x-python",
   "name": "python",
   "nbconvert_exporter": "python",
   "pygments_lexer": "ipython3",
   "version": "3.12.3"
  },
  "vscode": {
   "interpreter": {
    "hash": "dac106c35ce3d047d16e564b0a4c64d2054fbff410f883fbe9cca57677e1729f"
   }
  }
 },
 "nbformat": 4,
 "nbformat_minor": 2
}
