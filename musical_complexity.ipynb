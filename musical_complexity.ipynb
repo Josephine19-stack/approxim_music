{
 "cells": [
  {
   "cell_type": "code",
   "execution_count": 17,
   "metadata": {},
   "outputs": [],
   "source": [
    "import ast\n",
    "from collections import Counter\n",
    "import math\n",
    "import zlib\n",
    "import pandas as pd\n",
    "import mido"
   ]
  },
  {
   "cell_type": "code",
   "execution_count": 3,
   "metadata": {},
   "outputs": [],
   "source": [
    "output_directory = \"music_metrics.csv\""
   ]
  },
  {
   "cell_type": "code",
   "execution_count": 4,
   "metadata": {},
   "outputs": [],
   "source": [
    "def extract_features(notes_dict):\n",
    "    pitches = [note[0] for note in notes_dict.values()]\n",
    "    durations = [note[1] for note in notes_dict.values()]\n",
    "    velocities = [note[2] for note in notes_dict.values()]\n",
    "    return pitches, durations, velocities\n",
    "def calculate_entropy(sequence):\n",
    "    counts = Counter(sequence)\n",
    "    probabilities = [count / len(sequence) for count in counts.values()]\n",
    "    return -sum(p * math.log2(p) for p in probabilities if p > 0)\n",
    "def calculate_compression_ratio(sequence):\n",
    "    # Convert the sequence to a string for compression\n",
    "    sequence_str = \",\".join(map(str, sequence))\n",
    "    compressed = zlib.compress(sequence_str.encode('utf-8'))\n",
    "    return len(compressed) / len(sequence_str.encode('utf-8'))\n",
    "\n",
    "def calculate_metrix(df):\n",
    "    complexity_scores = []\n",
    "    for _, row in df.iterrows():\n",
    "        notes_dict = ast.literal_eval(row[\"Notes\"])  # Convert string back to dictionary\n",
    "        pitches, durations, velocities = extract_features(notes_dict)\n",
    "\n",
    "        metrics = {\n",
    "        \"pitch_entropy\": calculate_entropy(pitches),\n",
    "        \"duration_entropy\": calculate_entropy(durations),\n",
    "        \"velocity_entropy\": calculate_entropy(velocities),\n",
    "        \"pitch_compression\": calculate_compression_ratio(pitches),\n",
    "        \"duration_compression\": calculate_compression_ratio(durations),\n",
    "        \"velocity_compression\": calculate_compression_ratio(velocities),\n",
    "        }\n",
    "\n",
    "        complexity_scores.append(metrics)\n",
    "\n",
    "    # Add the complexity column to the dataframe\n",
    "    return complexity_scores"
   ]
  },
  {
   "cell_type": "code",
   "execution_count": 7,
   "metadata": {},
   "outputs": [
    {
     "name": "stdout",
     "output_type": "stream",
     "text": [
      "0       {'pitch_entropy': 4.039494663005557, 'duration...\n",
      "1       {'pitch_entropy': 3.3698373541095803, 'duratio...\n",
      "2       {'pitch_entropy': 3.6740738464145557, 'duratio...\n",
      "3       {'pitch_entropy': 4.404917585176534, 'duration...\n",
      "4       {'pitch_entropy': 4.484162704131576, 'duration...\n",
      "                              ...                        \n",
      "2031    {'pitch_entropy': 4.346988230461985, 'duration...\n",
      "2032    {'pitch_entropy': 4.517722105737881, 'duration...\n",
      "2033    {'pitch_entropy': 4.0377172942187, 'duration_e...\n",
      "2034    {'pitch_entropy': 3.960525399817489, 'duration...\n",
      "2035    {'pitch_entropy': 4.226813284500464, 'duration...\n",
      "Name: Metrix, Length: 2036, dtype: object\n"
     ]
    }
   ],
   "source": [
    "df = pd.read_csv(output_directory)\n",
    "df[\"Metrix\"] = calculate_metrix(df)\n",
    "print(df[\"Metrix\"])"
   ]
  },
  {
   "cell_type": "code",
   "execution_count": 6,
   "metadata": {},
   "outputs": [
    {
     "data": {
      "text/plain": [
       "(2036, 7)"
      ]
     },
     "execution_count": 6,
     "metadata": {},
     "output_type": "execute_result"
    }
   ],
   "source": [
    "df.shape"
   ]
  },
  {
   "cell_type": "code",
   "execution_count": 10,
   "metadata": {},
   "outputs": [],
   "source": [
    "def extract_notes_from_df(df):\n",
    "    # Crée trois nouvelles colonnes pour les pitches, durations et velocities\n",
    "    df[\"pitches\"] = df[\"Notes\"].apply(lambda x: [note[0] for note in ast.literal_eval(x).values()])\n",
    "    df[\"durations\"] = df[\"Notes\"].apply(lambda x: [note[1] for note in ast.literal_eval(x).values()])\n",
    "    df[\"velocities\"] = df[\"Notes\"].apply(lambda x: [note[2] for note in ast.literal_eval(x).values()])\n",
    "    return df\n",
    "\n",
    "\n",
    "df = extract_notes_from_df(df)"
   ]
  },
  {
   "cell_type": "code",
   "execution_count": 16,
   "metadata": {},
   "outputs": [
    {
     "name": "stdout",
     "output_type": "stream",
     "text": [
      "55\n"
     ]
    }
   ],
   "source": [
    "#l = [df[\"pitches\"][0],df[\"durations\"][0],df[\"velocities\"][0]]\n",
    "\n",
    "\n",
    "print(df[\"pitches\"][0][0]) #df[\"pitches\"] est en 2D"
   ]
  },
  {
   "attachments": {},
   "cell_type": "markdown",
   "metadata": {},
   "source": [
    "Il n'y a que des partitions de piano dans le dataset, une seule piste à chaque morceau/ligne (donc ce qu'on voulait nice)"
   ]
  },
  {
   "attachments": {},
   "cell_type": "markdown",
   "metadata": {},
   "source": [
    "Approche de la complexité de Kolmogorov\n",
    "En gros une note c'est un triplet (p,d,v) (pitch, duratio,velocity)\n",
    "Donc deux notes identiques c'est deux notes qui ont les mêmes p,d,v\n",
    "Si on a deux mêmes p,d,v alors on a juste à écrire la note une fois, et à mettre ses 2 emplacements. C'est moins long que d'encoder deux fois l'emplacement et le p,d,v. Donc premier facteur de réduction de complexité\n",
    "\n",
    "\n",
    "Savoir qu'il y a plusieurs notes de même p ça sert pas forcément à grand chose car il faut quand même noter leur emplacement\n",
    "Mais quand plusieurs notes de même p ou d ou v se suivent la c'est intéressant et ça fait diminuer la complexité\n",
    "Donc quand on a des notes qui se suivent avec mêmes p ou d ou v, complexité diminue\n",
    "\n",
    "pareil si c'est pour des couples de var : si deux notes se suivent avec même p,v (mais d différent) alors ça fait quand même bien diminuer la complexité \n",
    "Algo : \n",
    "\n",
    "1) on imagine que notre code code toutes les notes uniques et sans aucunes répetitions de p,d,v à droite ou à gauche, avec leurs emplacements\n",
    "\n",
    "2) puis il prend celles qui se répètentsur une ou 2 vars, et les codes ensemble\n",
    "\n",
    "3) puis il prend les notes identiques et code juste leur emplacement\n",
    "\n",
    "Si une note est à la fois exactement égale à une autre, et apparait dans une répétition de p, alors comment on l'encode ? Ca c'est une bonne question (elle appartient aux notes de catégorie 2 et 3 à la fois)\n",
    "-> Pour l'instant on considère que la méthode 3 est toujours plus efficace, donc on classe ce genre de note dans la classe 3\n",
    "\n",
    "--> En vérité ça va dépendre de la longueur de la répétition d'une var. Si ça fait beaucoup diminuer la complexité des notes voisines alors il faudrait prendre encodage 2. Mais y a aussi un problème avec cette espèce de \"valeur\" de complexité. On fait des +1 -1 genre ?\n",
    "\n",
    "Pour l'instant oui "
   ]
  }
 ],
 "metadata": {
  "kernelspec": {
   "display_name": "env_TP2",
   "language": "python",
   "name": "python3"
  },
  "language_info": {
   "codemirror_mode": {
    "name": "ipython",
    "version": 3
   },
   "file_extension": ".py",
   "mimetype": "text/x-python",
   "name": "python",
   "nbconvert_exporter": "python",
   "pygments_lexer": "ipython3",
   "version": "3.12.3"
  },
  "vscode": {
   "interpreter": {
    "hash": "dac106c35ce3d047d16e564b0a4c64d2054fbff410f883fbe9cca57677e1729f"
   }
  }
 },
 "nbformat": 4,
 "nbformat_minor": 2
}
