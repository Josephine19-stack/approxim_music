{
 "cells": [
  {
   "cell_type": "code",
   "execution_count": null,
   "metadata": {},
   "outputs": [],
   "source": [
    "import ast\n",
    "from collections import Counter\n",
    "import math\n",
    "import zlib\n",
    "import pandas as pd\n",
    "import numpy as np \n",
    "import mido"
   ]
  },
  {
   "cell_type": "code",
   "execution_count": 2,
   "metadata": {},
   "outputs": [
    {
     "name": "stdout",
     "output_type": "stream",
     "text": [
      "Erreur pour le fichier Theme from C K467.mid: Could not decode key with 8 sharps and mode 0\n",
      "Erreur pour le fichier Sleepers, Wake.mid: Could not decode key with 8 sharps and mode 0\n",
      "Erreur pour le fichier Nutcracker Minature Overture.mid: Could not decode key with 8 sharps and mode 0\n",
      "Erreur pour le fichier Saltarelle.mid: Could not decode key with 8 sharps and mode 0\n",
      "Erreur pour le fichier English Suite 3 Gavotte.mid: Could not decode key with 8 sharps and mode 0\n",
      "Erreur pour le fichier Carry That Weight.mid: Could not decode key with 8 sharps and mode 0\n",
      "Erreur pour le fichier Divenire.mid: Could not decode key with 8 sharps and mode 0\n",
      "Erreur pour le fichier Feel This Moment.mid: Could not decode key with 8 sharps and mode 0\n",
      "Erreur pour le fichier Impromptu in Ges-dur.mid: Could not decode key with 8 sharps and mode 0\n",
      "Erreur pour le fichier Clarinet Concerto Theme.mid: Could not decode key with 8 sharps and mode 0\n",
      "Erreur pour le fichier Arthurs Theme.mid: Could not decode key with 8 sharps and mode 0\n",
      "Erreur pour le fichier Forgiven, Not Forgotten.mid: Could not decode key with 8 sharps and mode 0\n",
      "Erreur pour le fichier Lyric Pieces Op 12 No 12 Valse.mid: Could not decode key with 8 sharps and mode 0\n",
      "Erreur pour le fichier July - Song of the Reaper.mid: Could not decode key with 8 sharps and mode 0\n"
     ]
    },
    {
     "ename": "KeyboardInterrupt",
     "evalue": "",
     "output_type": "error",
     "traceback": [
      "\u001b[0;31m---------------------------------------------------------------------------\u001b[0m",
      "\u001b[0;31mKeyboardInterrupt\u001b[0m                         Traceback (most recent call last)",
      "Cell \u001b[0;32mIn[2], line 53\u001b[0m\n\u001b[1;32m     50\u001b[0m output_csv \u001b[39m=\u001b[39m \u001b[39m\"\u001b[39m\u001b[39mmidi_notes.csv\u001b[39m\u001b[39m\"\u001b[39m\n\u001b[1;32m     52\u001b[0m \u001b[39m# Exécuter la fonction pour créer le CSV\u001b[39;00m\n\u001b[0;32m---> 53\u001b[0m create_csv_from_midi(midi_folder, output_csv)\n",
      "Cell \u001b[0;32mIn[2], line 36\u001b[0m, in \u001b[0;36mcreate_csv_from_midi\u001b[0;34m(root_folder, output_csv)\u001b[0m\n\u001b[1;32m     33\u001b[0m genre \u001b[39m=\u001b[39m os\u001b[39m.\u001b[39mpath\u001b[39m.\u001b[39mbasename(os\u001b[39m.\u001b[39mpath\u001b[39m.\u001b[39mdirname(file_path))  \u001b[39m# Récupérer le nom du sous-dossier\u001b[39;00m\n\u001b[1;32m     34\u001b[0m \u001b[39mtry\u001b[39;00m:\n\u001b[1;32m     35\u001b[0m     \u001b[39m# Extraire les notes du fichier MIDI\u001b[39;00m\n\u001b[0;32m---> 36\u001b[0m     notes \u001b[39m=\u001b[39m extract_note_data(file_path)\n\u001b[1;32m     37\u001b[0m     note_representation \u001b[39m=\u001b[39m \u001b[39m\"\u001b[39m\u001b[39m;\u001b[39m\u001b[39m\"\u001b[39m\u001b[39m.\u001b[39mjoin([\u001b[39mf\u001b[39m\u001b[39m\"\u001b[39m\u001b[39m(\u001b[39m\u001b[39m{\u001b[39;00mp\u001b[39m}\u001b[39;00m\u001b[39m,\u001b[39m\u001b[39m{\u001b[39;00md\u001b[39m}\u001b[39;00m\u001b[39m,\u001b[39m\u001b[39m{\u001b[39;00mv\u001b[39m}\u001b[39;00m\u001b[39m,\u001b[39m\u001b[39m{\u001b[39;00mt\u001b[39m}\u001b[39;00m\u001b[39m)\u001b[39m\u001b[39m\"\u001b[39m \u001b[39mfor\u001b[39;00m p, d, v, t \u001b[39min\u001b[39;00m notes])\n\u001b[1;32m     38\u001b[0m     data\u001b[39m.\u001b[39mappend((file, genre, note_representation))\n",
      "Cell \u001b[0;32mIn[2], line 8\u001b[0m, in \u001b[0;36mextract_note_data\u001b[0;34m(midi_path)\u001b[0m\n\u001b[1;32m      6\u001b[0m \u001b[39mdef\u001b[39;00m \u001b[39mextract_note_data\u001b[39m(midi_path):\n\u001b[1;32m      7\u001b[0m     note_data \u001b[39m=\u001b[39m []\n\u001b[0;32m----> 8\u001b[0m     midi \u001b[39m=\u001b[39m MidiFile(midi_path)\n\u001b[1;32m      9\u001b[0m     current_time \u001b[39m=\u001b[39m \u001b[39m0\u001b[39m  \u001b[39m# Temps accumulé en ticks\u001b[39;00m\n\u001b[1;32m     10\u001b[0m     durations \u001b[39m=\u001b[39m {}  \u001b[39m# Stocker le temps de début des notes pour calculer la durée\u001b[39;00m\n",
      "File \u001b[0;32m/opt/anaconda3/envs/env_TP2/lib/python3.12/site-packages/mido/midifiles/midifiles.py:324\u001b[0m, in \u001b[0;36mMidiFile.__init__\u001b[0;34m(self, filename, file, type, ticks_per_beat, charset, debug, clip, tracks)\u001b[0m\n\u001b[1;32m    322\u001b[0m \u001b[39melif\u001b[39;00m \u001b[39mself\u001b[39m\u001b[39m.\u001b[39mfilename \u001b[39mis\u001b[39;00m \u001b[39mnot\u001b[39;00m \u001b[39mNone\u001b[39;00m:\n\u001b[1;32m    323\u001b[0m     \u001b[39mwith\u001b[39;00m io\u001b[39m.\u001b[39mopen(filename, \u001b[39m'\u001b[39m\u001b[39mrb\u001b[39m\u001b[39m'\u001b[39m) \u001b[39mas\u001b[39;00m file:\n\u001b[0;32m--> 324\u001b[0m         \u001b[39mself\u001b[39;49m\u001b[39m.\u001b[39;49m_load(file)\n",
      "File \u001b[0;32m/opt/anaconda3/envs/env_TP2/lib/python3.12/site-packages/mido/midifiles/midifiles.py:359\u001b[0m, in \u001b[0;36mMidiFile._load\u001b[0;34m(self, infile)\u001b[0m\n\u001b[1;32m    356\u001b[0m \u001b[39mif\u001b[39;00m \u001b[39mself\u001b[39m\u001b[39m.\u001b[39mdebug:\n\u001b[1;32m    357\u001b[0m     _dbg(\u001b[39m'\u001b[39m\u001b[39mTrack \u001b[39m\u001b[39m{}\u001b[39;00m\u001b[39m:\u001b[39m\u001b[39m'\u001b[39m\u001b[39m.\u001b[39mformat(i))\n\u001b[0;32m--> 359\u001b[0m \u001b[39mself\u001b[39m\u001b[39m.\u001b[39mtracks\u001b[39m.\u001b[39mappend(read_track(infile,\n\u001b[1;32m    360\u001b[0m                               debug\u001b[39m=\u001b[39;49m\u001b[39mself\u001b[39;49m\u001b[39m.\u001b[39;49mdebug,\n\u001b[1;32m    361\u001b[0m                               clip\u001b[39m=\u001b[39;49m\u001b[39mself\u001b[39;49m\u001b[39m.\u001b[39;49mclip))\n",
      "File \u001b[0;32m/opt/anaconda3/envs/env_TP2/lib/python3.12/site-packages/mido/midifiles/midifiles.py:223\u001b[0m, in \u001b[0;36mread_track\u001b[0;34m(infile, debug, clip)\u001b[0m\n\u001b[1;32m    221\u001b[0m     msg \u001b[39m=\u001b[39m read_sysex(infile, delta, clip)\n\u001b[1;32m    222\u001b[0m \u001b[39melse\u001b[39;00m:\n\u001b[0;32m--> 223\u001b[0m     msg \u001b[39m=\u001b[39m read_message(infile, status_byte, peek_data, delta, clip)\n\u001b[1;32m    225\u001b[0m track\u001b[39m.\u001b[39mappend(msg)\n\u001b[1;32m    227\u001b[0m \u001b[39mif\u001b[39;00m debug:\n",
      "File \u001b[0;32m/opt/anaconda3/envs/env_TP2/lib/python3.12/site-packages/mido/midifiles/midifiles.py:138\u001b[0m, in \u001b[0;36mread_message\u001b[0;34m(infile, status_byte, peek_data, delta, clip)\u001b[0m\n\u001b[1;32m    135\u001b[0m         \u001b[39mif\u001b[39;00m byte \u001b[39m>\u001b[39m \u001b[39m127\u001b[39m:\n\u001b[1;32m    136\u001b[0m             \u001b[39mraise\u001b[39;00m \u001b[39mIOError\u001b[39;00m(\u001b[39m'\u001b[39m\u001b[39mdata byte must be in range 0..127\u001b[39m\u001b[39m'\u001b[39m)\n\u001b[0;32m--> 138\u001b[0m \u001b[39mreturn\u001b[39;00m Message\u001b[39m.\u001b[39;49mfrom_bytes([status_byte] \u001b[39m+\u001b[39;49m data_bytes, time\u001b[39m=\u001b[39;49mdelta)\n",
      "File \u001b[0;32m/opt/anaconda3/envs/env_TP2/lib/python3.12/site-packages/mido/messages/messages.py:150\u001b[0m, in \u001b[0;36mMessage.from_bytes\u001b[0;34m(cl, data, time)\u001b[0m\n\u001b[1;32m    143\u001b[0m \u001b[39m\u001b[39m\u001b[39m\"\"\"Parse a byte encoded message.\u001b[39;00m\n\u001b[1;32m    144\u001b[0m \n\u001b[1;32m    145\u001b[0m \u001b[39mAccepts a byte string or any iterable of integers.\u001b[39;00m\n\u001b[1;32m    146\u001b[0m \n\u001b[1;32m    147\u001b[0m \u001b[39mThis is the reverse of msg.bytes() or msg.bin().\u001b[39;00m\n\u001b[1;32m    148\u001b[0m \u001b[39m\"\"\"\u001b[39;00m\n\u001b[1;32m    149\u001b[0m msg \u001b[39m=\u001b[39m cl\u001b[39m.\u001b[39m\u001b[39m__new__\u001b[39m(cl)\n\u001b[0;32m--> 150\u001b[0m msgdict \u001b[39m=\u001b[39m decode_message(data, time\u001b[39m=\u001b[39;49mtime)\n\u001b[1;32m    151\u001b[0m \u001b[39mif\u001b[39;00m \u001b[39m'\u001b[39m\u001b[39mdata\u001b[39m\u001b[39m'\u001b[39m \u001b[39min\u001b[39;00m msgdict:\n\u001b[1;32m    152\u001b[0m     msgdict[\u001b[39m'\u001b[39m\u001b[39mdata\u001b[39m\u001b[39m'\u001b[39m] \u001b[39m=\u001b[39m SysexData(msgdict[\u001b[39m'\u001b[39m\u001b[39mdata\u001b[39m\u001b[39m'\u001b[39m])\n",
      "File \u001b[0;32m/opt/anaconda3/envs/env_TP2/lib/python3.12/site-packages/mido/messages/decode.py:97\u001b[0m, in \u001b[0;36mdecode_message\u001b[0;34m(msg_bytes, time, check)\u001b[0m\n\u001b[1;32m     94\u001b[0m         \u001b[39mraise\u001b[39;00m \u001b[39mValueError\u001b[39;00m(\u001b[39m'\u001b[39m\u001b[39minvalid sysex end byte \u001b[39m\u001b[39m{!r}\u001b[39;00m\u001b[39m'\u001b[39m\u001b[39m.\u001b[39mformat(end))\n\u001b[1;32m     96\u001b[0m \u001b[39mif\u001b[39;00m check:\n\u001b[0;32m---> 97\u001b[0m     check_data(data)\n\u001b[1;32m     99\u001b[0m \u001b[39mif\u001b[39;00m status_byte \u001b[39min\u001b[39;00m _SPECIAL_CASES:\n\u001b[1;32m    100\u001b[0m     \u001b[39mif\u001b[39;00m status_byte \u001b[39min\u001b[39;00m CHANNEL_MESSAGES:\n",
      "File \u001b[0;32m/opt/anaconda3/envs/env_TP2/lib/python3.12/site-packages/mido/messages/checks.py:37\u001b[0m, in \u001b[0;36mcheck_data\u001b[0;34m(data_bytes)\u001b[0m\n\u001b[1;32m     35\u001b[0m \u001b[39mdef\u001b[39;00m \u001b[39mcheck_data\u001b[39m(data_bytes):\n\u001b[1;32m     36\u001b[0m     \u001b[39mfor\u001b[39;00m byte \u001b[39min\u001b[39;00m convert_py2_bytes(data_bytes):\n\u001b[0;32m---> 37\u001b[0m         check_data_byte(byte)\n",
      "File \u001b[0;32m/opt/anaconda3/envs/env_TP2/lib/python3.12/site-packages/mido/messages/checks.py:55\u001b[0m, in \u001b[0;36mcheck_data_byte\u001b[0;34m(value)\u001b[0m\n\u001b[1;32m     54\u001b[0m \u001b[39mdef\u001b[39;00m \u001b[39mcheck_data_byte\u001b[39m(value):\n\u001b[0;32m---> 55\u001b[0m     \u001b[39mif\u001b[39;00m \u001b[39mnot\u001b[39;00m \u001b[39misinstance\u001b[39;49m(value, Integral):\n\u001b[1;32m     56\u001b[0m         \u001b[39mraise\u001b[39;00m \u001b[39mTypeError\u001b[39;00m(\u001b[39m'\u001b[39m\u001b[39mdata byte must be int\u001b[39m\u001b[39m'\u001b[39m)\n\u001b[1;32m     57\u001b[0m     \u001b[39melif\u001b[39;00m \u001b[39mnot\u001b[39;00m \u001b[39m0\u001b[39m \u001b[39m<\u001b[39m\u001b[39m=\u001b[39m value \u001b[39m<\u001b[39m\u001b[39m=\u001b[39m \u001b[39m127\u001b[39m:\n",
      "File \u001b[0;32m<frozen abc>:119\u001b[0m, in \u001b[0;36m__instancecheck__\u001b[0;34m(cls, instance)\u001b[0m\n",
      "\u001b[0;31mKeyboardInterrupt\u001b[0m: "
     ]
    }
   ],
   "source": [
    "import os\n",
    "import pandas as pd\n",
    "from mido import MidiFile\n",
    "\n",
    "# Fonction pour extraire les notes au format (p, d, v, t) d'un fichier MIDI\n",
    "def extract_note_data(midi_path):\n",
    "    note_data = []\n",
    "    midi = MidiFile(midi_path)\n",
    "    current_time = 0  # Temps accumulé en ticks\n",
    "    durations = {}  # Stocker le temps de début des notes pour calculer la durée\n",
    "\n",
    "    for track in midi.tracks:\n",
    "        for msg in track:\n",
    "            if not msg.is_meta:\n",
    "                current_time += msg.time  # Incrémenter le temps\n",
    "                if msg.type == 'note_on' and msg.velocity > 0:  # Note On\n",
    "                    durations[msg.note] = current_time  # Stocker le temps de début\n",
    "                    note_data.append((msg.note, 0, msg.velocity, current_time))\n",
    "                elif msg.type == 'note_off':  # Note Off\n",
    "                    if msg.note in durations:\n",
    "                        duration = current_time - durations[msg.note]\n",
    "                        # Mettre à jour la dernière note pour inclure la durée\n",
    "                        note_data[-1] = (msg.note, duration, note_data[-1][2], note_data[-1][3])\n",
    "    return note_data\n",
    "\n",
    "# Fonction pour parcourir les fichiers et créer un DataFrame\n",
    "def create_csv_from_midi(root_folder, output_csv):\n",
    "    data = []  # Liste pour stocker les informations\n",
    "    for root, _, files in os.walk(root_folder):\n",
    "        for file in files:\n",
    "            if file.endswith('.mid') or file.endswith('.midi'):\n",
    "                file_path = os.path.join(root, file)\n",
    "                genre = os.path.basename(os.path.dirname(file_path))  # Récupérer le nom du sous-dossier\n",
    "                try:\n",
    "                    # Extraire les notes du fichier MIDI\n",
    "                    notes = extract_note_data(file_path)\n",
    "                    note_representation = \";\".join([f\"({p},{d},{v},{t})\" for p, d, v, t in notes])\n",
    "                    data.append((file, genre, note_representation))\n",
    "                except Exception as e:\n",
    "                    print(f\"Erreur pour le fichier {file}: {e}\")\n",
    "    \n",
    "    # Créer un DataFrame\n",
    "    df = pd.DataFrame(data, columns=['name', 'genre', 'note'])\n",
    "    # Sauvegarder au format CSV\n",
    "    df.to_csv(output_csv, index=False)\n",
    "    print(f\"CSV créé : {output_csv}\")\n",
    "\n",
    "# Chemin du dossier contenant les fichiers MIDI\n",
    "midi_folder = \"midi_files_cleaned\"  # Remplacez par votre chemin\n",
    "output_csv = \"midi_notes.csv\"\n",
    "\n",
    "# Exécuter la fonction pour créer le CSV\n",
    "create_csv_from_midi(midi_folder, output_csv)\n"
   ]
  },
  {
   "cell_type": "code",
   "execution_count": 3,
   "metadata": {},
   "outputs": [
    {
     "name": "stdout",
     "output_type": "stream",
     "text": [
      "[(36, 0, 108, 1616), (60, 0, 104, 1616), (63, 0, 98, 1616), (72, 0, 101, 1616), (24, 0, 107, 1618), (67, 0, 101, 1620), (55, 0, 51, 1988), (60, 0, 41, 2166), (72, 0, 108, 3892), (63, 0, 101, 3894), (75, 0, 112, 4196), (67, 0, 112, 4198), (79, 0, 101, 4482), (72, 0, 106, 4484), (24, 0, 112, 4666), (36, 0, 106, 4668), (69, 0, 112, 4668), (77, 0, 114, 4668), (65, 0, 45, 4864), (57, 0, 92, 5068), (65, 0, 90, 5076), (53, 0, 59, 5260), (60, 0, 79, 5358), (60, 0, 98, 6080), (53, 0, 92, 6082), (55, 0, 90, 6144), (60, 0, 99, 6216), (55, 0, 97, 6218), (57, 0, 99, 6260), (48, 0, 73, 7258), (53, 0, 121, 7356), (60, 0, 116, 7356), (55, 0, 107, 7440), (48, 0, 108, 7538), (51, 0, 107, 7738), (24, 0, 112, 7740), (36, 0, 110, 7740), (79, 0, 114, 8126), (67, 0, 114, 8128), (74, 0, 116, 8130), (75, 0, 114, 8130), (72, 0, 92, 8314), (62, 0, 84, 9214), (67, 0, 51, 9232), (63, 0, 87, 9248), (48, 0, 91, 9272), (62, 0, 91, 9272), (58, 0, 92, 9276), (55, 0, 99, 9278), (58, 0, 108, 10720), (67, 0, 108, 10720), (57, 0, 92, 10822), (24, 0, 108, 10826), (36, 0, 108, 10826), (60, 0, 103, 10828), (65, 0, 101, 10828), (60, 0, 64, 11210), (53, 0, 57, 11214), (57, 0, 59, 11488), (84, 0, 121, 13142), (72, 0, 76, 13230), (77, 0, 101, 13328), (69, 0, 94, 13424), (65, 0, 79, 13522), (60, 0, 91, 13612), (53, 0, 101, 13714), (60, 0, 102, 13814), (62, 0, 110, 13906), (36, 0, 107, 13908), (55, 0, 106, 13908), (24, 0, 110, 13910), (67, 0, 108, 13910), (63, 0, 101, 13912), (60, 0, 88, 14080), (55, 0, 52, 14284), (63, 0, 47, 15038), (67, 0, 33, 15048), (62, 0, 35, 15054), (55, 0, 114, 16390), (58, 0, 121, 16684), (24, 0, 101, 16952), (36, 0, 101, 16952), (57, 0, 119, 16954), (53, 0, 84, 17140), (60, 0, 114, 17248), (53, 0, 54, 17514), (74, 0, 103, 18402), (79, 0, 104, 18404), (75, 0, 96, 18448), (57, 0, 101, 18500), (63, 0, 84, 18502), (67, 0, 88, 18504), (72, 0, 104, 18506), (60, 0, 106, 19758), (62, 0, 114, 19934), (55, 0, 104, 20032), (24, 0, 106, 20036), (36, 0, 102, 20036), (58, 0, 65, 20222), (67, 0, 108, 20314), (74, 0, 41, 21522), (70, 0, 54, 21544), (67, 0, 84, 21556), (63, 0, 54, 21572), (62, 0, 108, 22548), (63, 0, 102, 22548), (67, 0, 108, 22548), (58, 0, 103, 22550), (63, 0, 102, 22828), (67, 0, 107, 22828), (60, 0, 106, 22830), (60, 0, 108, 23106), (65, 0, 112, 23106), (24, 0, 112, 23108), (57, 0, 112, 23108), (36, 0, 107, 23110), (60, 0, 78, 23484), (53, 0, 84, 23494), (48, 0, 79, 23666), (57, 0, 99, 23774), (53, 0, 65, 24452), (60, 0, 108, 24566), (57, 0, 65, 25220), (65, 0, 118, 25326), (60, 0, 62, 25604), (69, 0, 112, 25706), (65, 0, 107, 25982), (72, 0, 123, 26078), (24, 0, 106, 26174), (36, 0, 108, 26176), (67, 0, 118, 26180), (63, 0, 112, 26184), (79, 0, 107, 26564), (67, 0, 106, 26568), (74, 0, 108, 26568), (75, 0, 101, 26568), (72, 0, 39, 26748), (67, 0, 79, 26854), (62, 0, 112, 28480), (72, 0, 114, 28480), (63, 0, 116, 28482), (74, 0, 104, 28764), (63, 0, 108, 28766), (67, 0, 108, 28766), (67, 0, 106, 29062), (75, 0, 118, 29064), (69, 0, 101, 29068), (77, 0, 108, 29256), (24, 0, 108, 29258), (36, 0, 112, 29258), (69, 0, 103, 29260), (72, 0, 112, 29260), (67, 0, 59, 29446), (65, 0, 102, 29644), (72, 0, 102, 29644), (60, 0, 96, 29646), (57, 0, 29, 29860), (24, 0, 88, 32340), (63, 0, 73, 32340), (67, 0, 92, 32342), (36, 0, 81, 32344), (55, 0, 81, 32344), (62, 0, 97, 32346), (55, 0, 33, 32722), (60, 0, 76, 32884), (58, 0, 65, 33664), (60, 0, 87, 34428), (24, 0, 88, 35400), (36, 0, 76, 35402), (60, 0, 101, 35402), (57, 0, 97, 35404), (62, 0, 84, 35404), (65, 0, 98, 35404), (53, 0, 87, 35406), (60, 0, 90, 35952), (62, 0, 94, 36730), (63, 0, 87, 37504), (67, 0, 102, 38460), (24, 0, 97, 38462), (55, 0, 103, 38462), (63, 0, 92, 38462), (36, 0, 88, 38464), (60, 0, 107, 38464), (62, 0, 103, 38464), (74, 0, 106, 38840), (79, 0, 102, 38840), (75, 0, 92, 38844), (72, 0, 94, 38928), (67, 0, 81, 39030), (72, 0, 94, 39122), (63, 0, 54, 39224), (63, 0, 92, 40742), (62, 0, 103, 40744), (67, 0, 101, 40744), (55, 0, 81, 41130), (58, 0, 97, 41332), (65, 0, 108, 41426), (24, 0, 98, 41524), (57, 0, 90, 41524), (60, 0, 81, 41524), (36, 0, 91, 41526), (53, 0, 56, 41526), (57, 0, 41, 42114), (60, 0, 87, 42216), (67, 0, 104, 42980), (72, 0, 103, 42986), (69, 0, 94, 43038), (65, 0, 90, 43094), (60, 0, 54, 44552), (67, 0, 70, 44572), (63, 0, 70, 44590), (62, 0, 107, 44612), (60, 0, 101, 44620), (24, 0, 98, 44626), (55, 0, 98, 44628), (36, 0, 94, 44630), (60, 0, 47, 44924), (75, 0, 99, 45568), (84, 0, 101, 45568), (74, 0, 82, 45656), (79, 0, 103, 45664), (72, 0, 99, 45758), (75, 0, 73, 45862), (67, 0, 99, 45958), (58, 0, 96, 47104), (55, 0, 101, 47108), (60, 0, 101, 47110), (57, 0, 96, 47684), (24, 0, 87, 47688), (60, 0, 101, 47688), (36, 0, 76, 47690), (53, 0, 102, 47690), (72, 0, 104, 48826), (65, 0, 104, 48828), (67, 0, 90, 49014), (69, 0, 76, 49122), (77, 0, 108, 50112), (72, 0, 104, 50242), (65, 0, 73, 50290), (60, 0, 108, 50364), (53, 0, 94, 50488), (60, 0, 107, 50644), (48, 0, 90, 50696), (55, 0, 104, 50766), (24, 0, 107, 50768), (50, 0, 102, 50768), (36, 0, 103, 50770), (51, 0, 102, 50770), (48, 0, 65, 50952), (74, 0, 49, 52204), (75, 0, 90, 52252), (72, 0, 86, 52320), (70, 0, 71, 52788), (72, 0, 90, 52838), (67, 0, 84, 52896), (65, 0, 87, 53252), (67, 0, 97, 53310), (63, 0, 73, 53364), (63, 0, 91, 53726), (65, 0, 99, 53780), (60, 0, 104, 53834), (24, 0, 110, 53840), (36, 0, 106, 53840), (53, 0, 104, 53840)]\n"
     ]
    }
   ],
   "source": [
    "print(extract_note_data(\"midi_files_cleaned/ -start ID-.mid\"))"
   ]
  },
  {
   "cell_type": "code",
   "execution_count": 12,
   "metadata": {},
   "outputs": [
    {
     "name": "stdout",
     "output_type": "stream",
     "text": [
      "CSV sauvegardé à : midi_notes_fixed.csv\n"
     ]
    }
   ],
   "source": [
    "import os\n",
    "import pandas as pd\n",
    "from mido import MidiFile\n",
    "\n",
    "# Fonction pour extraire les notes avec (p, d, v, t)\n",
    "def extract_note_data(midi_path):\n",
    "    note_data = []\n",
    "    midi = MidiFile(midi_path)\n",
    "    current_time = 0  # Temps accumulé en ticks\n",
    "    active_notes = {}  # Dictionnaire pour stocker les notes et leurs débuts\n",
    "\n",
    "    for track in midi.tracks:\n",
    "        for msg in track:\n",
    "            if not msg.is_meta:\n",
    "                current_time += msg.time  # Incrémenter le temps en ticks\n",
    "                if msg.type == 'note_on' and msg.velocity > 0:  # Note On\n",
    "                    active_notes[msg.note] = (current_time, msg.velocity)  # Stocker temps début et vélocité\n",
    "                elif msg.type in ['note_off', 'note_on'] and msg.velocity == 0:  # Note Off\n",
    "                    if msg.note in active_notes:\n",
    "                        start_time, velocity = active_notes.pop(msg.note)  # Récupérer début et vélocité\n",
    "                        duration = current_time - start_time  # Calculer durée\n",
    "                        note_data.append((msg.note, duration, velocity, start_time))  # Ajouter la note\n",
    "    return note_data\n",
    "\n",
    "# Créer le CSV avec name, genre et note\n",
    "def create_csv_from_midi(midi_folder, output_csv):\n",
    "    data = []\n",
    "\n",
    "    for root, _, files in os.walk(midi_folder):\n",
    "        for file in files:\n",
    "            if file.endswith('.mid') or file.endswith('.midi'):\n",
    "                file_path = os.path.join(root, file)\n",
    "                genre = os.path.basename(os.path.dirname(file_path))  # Le genre est le nom du sous-dossier\n",
    "                try:\n",
    "                    notes = extract_note_data(file_path)\n",
    "                    note_representation = \";\".join([f\"({p},{d},{v},{t})\" for p, d, v, t in notes])\n",
    "                    data.append((file, genre, note_representation))\n",
    "                except Exception as e:\n",
    "                    print(f\"Erreur avec {file}: {e}\")\n",
    "                    data.append((file, genre, \"ERROR\"))\n",
    "    \n",
    "    # Créer et sauvegarder le DataFrame\n",
    "    df = pd.DataFrame(data, columns=['name', 'genre', 'note'])\n",
    "    df.to_csv(output_csv, index=False)\n",
    "    print(f\"CSV sauvegardé à : {output_csv}\")\n",
    "\n",
    "# Chemin des fichiers MIDI et sortie\n",
    "midi_folder = 'reduced_midi_files'  # Chemin vers vos fichiers extraits\n",
    "output_csv = 'midi_notes_fixed.csv'\n",
    "\n",
    "# Exécution\n",
    "create_csv_from_midi(midi_folder, output_csv)\n",
    "\n",
    "\n"
   ]
  },
  {
   "cell_type": "code",
   "execution_count": null,
   "metadata": {},
   "outputs": [],
   "source": [
    "midi_folder = 'reduced_midi_files'  # Chemin où sont les fichiers MIDI\n",
    "output_csv = 'midi_notes_fixed.csv'"
   ]
  },
  {
   "cell_type": "code",
   "execution_count": 21,
   "metadata": {},
   "outputs": [
    {
     "name": "stdout",
     "output_type": "stream",
     "text": [
      "note_on channel=0 note=60 velocity=41 time=0.47952458333333325\n"
     ]
    }
   ],
   "source": [
    "def extract_note_data(midi_path):\n",
    "    note_data = []  # Liste pour stocker (p, d, v, t)\n",
    "    current_time = 0  # Temps accumulé en ticks\n",
    "    active_notes = {}  # Stocker les notes en cours {pitch: (start_time, velocity)}\n",
    "\n",
    "    # Charger le fichier MIDI\n",
    "    midi = MidiFile(midi_path)\n",
    "\n",
    "    # Parcourir tous les messages de la track unique\n",
    "    for i,msg in enumerate(midi) :\n",
    "        if (msg.type = meta)\n",
    "        if(i==24) :\n",
    "            print(msg)\n",
    "\n",
    "\n",
    "extract_note_data('reduced_midi_files/ -start ID-.mid')"
   ]
  },
  {
   "attachments": {},
   "cell_type": "markdown",
   "metadata": {},
   "source": [
    "**Format :**\n",
    "\n",
    "'msg.type' espace 'channel' espace 'p' espace 'v' espace 'delta_t'\n",
    "\n",
    "--> On s'en fiche de channel on l'enlève\n",
    "\n",
    "--> msg.type c'est soit on soit off donc 0 ou 1 (1 bit)\n",
    "\n",
    "--> p sur 7 bits et v sur 7 bits\n",
    "\n",
    "--> delta_t sur 14 bits du coup\n",
    "\n",
    "--> Donc en fait quand on a des répétitions de p,v,delta_t ça revient au même qu'avant donc on peut réutiliser nos trucs \n",
    "\n",
    "--> Les note_off on s'en fout de v donc on code juste 0 puis note puis le delta_t\n",
    "\n",
    "--> On va juste rajouter les harmoniques "
   ]
  },
  {
   "attachments": {},
   "cell_type": "markdown",
   "metadata": {},
   "source": [
    "On va pas utiliser les noms classiques des accords. On utilise un code préfixe pour créer ptit à petit notre ensemble d'accords. Vu qu'est un code préfixe, on pourra déerminer avec certitude de quel accord il s'agit. \n",
    "\n",
    "Pour chaque .midi, on aura donc un dictionnairr avec clé = accord et valeur = encodage. "
   ]
  },
  {
   "cell_type": "code",
   "execution_count": null,
   "metadata": {},
   "outputs": [],
   "source": [
    "import os\n",
    "import csv\n",
    "import hashlib"
   ]
  },
  {
   "cell_type": "code",
   "execution_count": null,
   "metadata": {},
   "outputs": [],
   "source": [
    "import load_data as load"
   ]
  }
 ],
 "metadata": {
  "kernelspec": {
   "display_name": "env_TP2",
   "language": "python",
   "name": "python3"
  },
  "language_info": {
   "codemirror_mode": {
    "name": "ipython",
    "version": 3
   },
   "file_extension": ".py",
   "mimetype": "text/x-python",
   "name": "python",
   "nbconvert_exporter": "python",
   "pygments_lexer": "ipython3",
   "version": "3.12.3"
  },
  "orig_nbformat": 4,
  "vscode": {
   "interpreter": {
    "hash": "dac106c35ce3d047d16e564b0a4c64d2054fbff410f883fbe9cca57677e1729f"
   }
  }
 },
 "nbformat": 4,
 "nbformat_minor": 2
}
